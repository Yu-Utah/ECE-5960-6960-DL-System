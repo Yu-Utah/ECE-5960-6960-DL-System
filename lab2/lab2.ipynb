{
 "cells": [
  {
   "cell_type": "markdown",
   "id": "boxed-watch",
   "metadata": {},
   "source": [
    "# LAB 2 -- Backpropogation, Computation Grpah, and hand-crafted MLP\n",
    "\n",
    "## Q1-a: Construct the computation graph and perform at least two iterations of GD optimization. Show all your steps.\n",
    "\n",
    "    1) function: f(x, w0, w1, b0, b1) = ( (x*w0) + b0 ) * w1 + b1\n",
    "    2) initial values: w0=3, b0 = -1, w1 = 2, b1 = 2\n",
    "    3) Data point: x = 1, y=5\n",
    "    \n",
    "## Q1-b: Any simplified GD process can be found ? (think about the sigmoid example covered in the class) Show all your steps.\n"
   ]
  },
  {
   "cell_type": "markdown",
   "id": "sustainable-medium",
   "metadata": {},
   "source": [
    "## Q2: Construct a 2-layer Regression MLP with Sigmoid as hidden activation function. (Hint: what is your output ? what is the output loss that guides training?). \n",
    "\n",
    "## Requirements\n",
    "    1) Your input data will have dim=32\n",
    "    2) Your hidden size will be dim=64\n",
    "    3) Use the code structure shown below to complete Q2.\n",
    "\n"
   ]
  },
  {
   "cell_type": "code",
   "execution_count": 1,
   "id": "forward-darkness",
   "metadata": {},
   "outputs": [],
   "source": [
    "import numpy as np\n",
    "from numpy.random import randn\n",
    "import matplotlib.pyplot as plt"
   ]
  },
  {
   "cell_type": "code",
   "execution_count": 2,
   "id": "spanish-playing",
   "metadata": {},
   "outputs": [],
   "source": [
    "# randomly generate data\n",
    "sample, D_in, n_neurons, D_out = 100, 16, 16, 1\n",
    "# make sure to have a fixed random seed to have reproducible runs\n",
    "np.random.seed(0)"
   ]
  },
  {
   "cell_type": "code",
   "execution_count": 3,
   "id": "victorian-protein",
   "metadata": {},
   "outputs": [
    {
     "name": "stdout",
     "output_type": "stream",
     "text": [
      "[ 1.76405235  0.40015721  0.97873798  2.2408932   1.86755799 -0.97727788\n",
      "  0.95008842 -0.15135721 -0.10321885  0.4105985   0.14404357  1.45427351\n",
      "  0.76103773  0.12167502  0.44386323  0.33367433]\n",
      "[0.43077113]\n"
     ]
    }
   ],
   "source": [
    "# random data points\n",
    "x, y = randn(sample, D_in), randn(sample, D_out) # generate random data points (x => features, y => labels)\n",
    "# print the first data in the dataset\n",
    "print(x[0])#feature\n",
    "print(y[0])#label"
   ]
  },
  {
   "cell_type": "code",
   "execution_count": 4,
   "id": "plastic-walnut",
   "metadata": {},
   "outputs": [],
   "source": [
    "# Random initialization for weight param: D_in => n_neurons => D_out\n",
    "w1, w2 = randn(D_in, n_neurons), randn(n_neurons, D_out)"
   ]
  },
  {
   "cell_type": "markdown",
   "id": "disturbed-press",
   "metadata": {},
   "source": [
    "```python\n",
    "def mse_loss(delta):\n",
    "    ... # to be filled\n",
    "\n",
    "def sigmoid_act(x):\n",
    "    ... # to be filled\n",
    "\n",
    "def forward(w1,w2,x,y):\n",
    "    ... #to be filled\n",
    "    return loss,grad_y_pred,h\n",
    "\n",
    "def evaluation(w1,w2,x,y):\n",
    "    ... #to be filled\n",
    "    return loss\n",
    "    \n",
    "def backward(w1,w2,h,x,grad_y_pred,lr=1e-4): \n",
    "    \"\"\"\n",
    "    w1, w2 : weights to be updated\n",
    "    h      : hidden (forward value) used for backprop\n",
    "    x      : input used for backprop\n",
    "    grad_y_pred : output gradients\n",
    "    lr     : learning rate\n",
    "    \"\"\"\n",
    "    if not grad_y_pred.all():\n",
    "        return w1,w2\n",
    "    else:\n",
    "        ... #to be filled\n",
    "        return w1,w2\n",
    "```"
   ]
  },
  {
   "cell_type": "markdown",
   "id": "subjective-broadway",
   "metadata": {},
   "source": [
    "```python\n",
    "# Test code for evaluating your implementation\n",
    "\n",
    "batched=0 # batched = 0 => each epoch takes whoe training set \n",
    "          # batched = 1 => 50% in one epoch\n",
    "for i in range(300): # loops 300 epochs\n",
    "    if batched==1:\n",
    "        loss,grad_y_pred,h = forward(w1,w2,x,y)\n",
    "        w1,w2 = backward(w1,w2,h,x,grad_y_pred,lr=1e-4)\n",
    "        print(\"%d-th iteration, mse = %.10f\" % (i, evaluation(w1,w2,x,y)))\n",
    "    else:\n",
    "        x_first_half = x[0:50]\n",
    "        y_first_half = y[0:50]\n",
    "        loss,grad_y_pred,h = forward(w1,w2,x_first_half,y_first_half)\n",
    "        w1,w2 = backward(w1,w2,h,x_first_half,grad_y_pred,lr=1e-4)\n",
    "        \n",
    "        x_second_half = x[50:]\n",
    "        y_second_half = y[50:]\n",
    "        loss,grad_y_pred,h = forward(w1,w2,x_second_half,y_second_half)\n",
    "        w1,w2 = backward(w1,w2,h,x_second_half,grad_y_pred,lr=1e-4)\n",
    "        print(\"%d-th iteration, mse = %.10f\" % (i, evaluation(w1,w2,x,y)))\n",
    "```"
   ]
  },
  {
   "cell_type": "markdown",
   "id": "instrumental-clone",
   "metadata": {},
   "source": [
    "# Example output\n",
    "\n",
    "    0-th iteration, mse = 12.0249009221\n",
    "    1-th iteration, mse = 10.3846364600\n",
    "    2-th iteration, mse = 9.0210579456\n",
    "    3-th iteration, mse = 7.8867975424\n",
    "    4-th iteration, mse = 6.9426745644\n",
    "    5-th iteration, mse = 6.1562586891\n",
    "    6-th iteration, mse = 5.5006919688\n",
    "    7-th iteration, mse = 4.9537209843\n",
    "    8-th iteration, mse = 4.4969002513\n",
    "    9-th iteration, mse = 4.1149356071\n",
    "    10-th iteration, mse = 3.7951423149\n",
    "    11-th iteration, mse = 3.5269973816\n",
    "    12-th iteration, mse = 3.3017693937\n",
    "    13-th iteration, mse = 3.1122122301\n",
    "    14-th iteration, mse = 2.9523114784\n",
    "    15-th iteration, mse = 2.8170743829"
   ]
  },
  {
   "cell_type": "code",
   "execution_count": null,
   "id": "improving-image",
   "metadata": {},
   "outputs": [],
   "source": []
  }
 ],
 "metadata": {
  "kernelspec": {
   "display_name": "projectname",
   "language": "python",
   "name": "projectname"
  },
  "language_info": {
   "codemirror_mode": {
    "name": "ipython",
    "version": 2
   },
   "file_extension": ".py",
   "mimetype": "text/x-python",
   "name": "python",
   "nbconvert_exporter": "python",
   "pygments_lexer": "ipython2",
   "version": "2.7.18"
  }
 },
 "nbformat": 4,
 "nbformat_minor": 5
}
